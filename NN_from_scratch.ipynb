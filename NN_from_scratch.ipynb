{
  "cells": [
    {
      "cell_type": "markdown",
      "metadata": {
        "id": "5HMZGHArS8Ox"
      },
      "source": [
        "# Neural Network without high-level API like Keras for multi-class classification in TensorFlow"
      ]
    },
    {
      "cell_type": "markdown",
      "metadata": {
        "id": "YIq4MaQXS8O1"
      },
      "source": []
    },
    {
      "cell_type": "code",
      "execution_count": null,
      "metadata": {
        "id": "3i80z0k6S8O2",
        "outputId": "a6f34082-f928-4481-c125-e5abae88f41a"
      },
      "outputs": [
        {
          "name": "stdout",
          "output_type": "stream",
          "text": [
            "TensorFlow Version: 2.1.0\n"
          ]
        }
      ],
      "source": [
        "# Importing Libraries\n",
        "import tensorflow as tf\n",
        "import numpy as np\n",
        "import matplotlib.pyplot as plt\n",
        "import nn_utils\n",
        "%matplotlib inline\n",
        "\n",
        "print('TensorFlow Version:', tf.__version__)"
      ]
    },
    {
      "cell_type": "markdown",
      "metadata": {
        "id": "kvHXAdbqS8O7"
      },
      "source": []
    },
    {
      "cell_type": "code",
      "execution_count": null,
      "metadata": {
        "id": "As94bFKhS8O8"
      },
      "outputs": [],
      "source": [
        "# Initializing Neural Network\n",
        "class NeuralNetwork:\n",
        "    def __init__(self, layers):\n",
        "        self.layers = layers\n",
        "        self.L = len(layers)\n",
        "        self.num_features = layers[0]\n",
        "        self.num_classes = layers[-1]\n",
        "\n",
        "        self.W = {}\n",
        "        self.b = {}\n",
        "\n",
        "        self.dW = {}\n",
        "        self.db = {}\n",
        "\n",
        "        self.setup()\n",
        "\n",
        "    def setup(self):\n",
        "        for i in range(1, self.L):\n",
        "            self.W[i]=tf.Variable(tf.random.normal(shape=(self.layers[i], self.layers[i-1])))\n",
        "            self.b[i]= tf.Variable(tf.random.normal(shape=(self.layers[i], 1)))"
      ]
    },
    {
      "cell_type": "markdown",
      "metadata": {
        "id": "Inf-N8NMS8O9"
      },
      "source": []
    },
    {
      "cell_type": "code",
      "execution_count": null,
      "metadata": {
        "id": "GfVjVzcjS8O9"
      },
      "outputs": [],
      "source": [
        "# Creating Forward Pass\n",
        "class NeuralNetwork(NeuralNetwork):\n",
        "    def forward_pass(self, X):\n",
        "        A = tf.convert_to_tensor(X, dtype= tf.float32)\n",
        "        for i in range(1, self.L):\n",
        "            Z = tf.matmul(A, tf.transpose(self.W[i])) + tf.transpose(self.b[i])\n",
        "            if i!= self.L -1:\n",
        "                A = tf.nn.relu(Z)\n",
        "            else:\n",
        "                A = Z\n",
        "        return A"
      ]
    },
    {
      "cell_type": "markdown",
      "metadata": {
        "id": "h7-pz9ElS8O-"
      },
      "source": []
    },
    {
      "cell_type": "code",
      "execution_count": null,
      "metadata": {
        "id": "OhfvRt_cS8O_"
      },
      "outputs": [],
      "source": [
        "# Computing Loss and Updating Parameters\n",
        "class NeuralNetwork(NeuralNetwork):\n",
        "    # Your code here\n",
        "    def compute_loss(self, A, Y):\n",
        "        loss = tf.nn.softmax_cross_entropy_with_logits(Y,A)\n",
        "        return tf.reduce_mean(loss)\n",
        "\n",
        "    def update_params(self, lr):\n",
        "        for i in range (1, self.L):\n",
        "            self.W[i].assign_sub(lr*self.dW[i])\n",
        "            self.b[i].assign_sub(lr*self.db[i])"
      ]
    },
    {
      "cell_type": "markdown",
      "metadata": {
        "id": "w_D_kzfNS8O_"
      },
      "source": []
    },
    {
      "cell_type": "code",
      "execution_count": null,
      "metadata": {
        "id": "T_Q4TwjTS8PA"
      },
      "outputs": [],
      "source": [
        "# Predict and Info Functions\n",
        "class NeuralNetwork(NeuralNetwork):\n",
        "    def predict(self, X):\n",
        "        A = self.forward_pass(X)\n",
        "        return tf.argmax(tf.nn.softmax(A), axis =1)\n",
        "\n",
        "    def info(self):\n",
        "        num_params = 0\n",
        "        for i in range(1, self.L):\n",
        "            num_params += self.W[i].shape[0] * self.W[i].shape[1]\n",
        "            num_params += self.b[i].shape[0]\n",
        "        print('Input Features:', self.num_features)\n",
        "        print('Number of Classes:', self.num_classes)\n",
        "        print('Hidden Layers:')\n",
        "        print('--------------')\n",
        "        for i in range(1, self.L-1):\n",
        "            print('Layer {}, Units {}'.format(i, self.layers[i]))\n",
        "        print('--------------')\n",
        "        print('Number of parameters:', num_params)"
      ]
    },
    {
      "cell_type": "markdown",
      "metadata": {
        "id": "de7gWxPcS8PB"
      },
      "source": []
    },
    {
      "cell_type": "code",
      "execution_count": null,
      "metadata": {
        "id": "U7aKNF1fS8PB"
      },
      "outputs": [],
      "source": [
        "# Training on Batch\n",
        "class NeuralNetwork(NeuralNetwork):\n",
        "    def train_on_batch(self, X, Y, lr):\n",
        "        X = tf.convert_to_tensor(X, dtype=tf.float32)\n",
        "        Y = tf.convert_to_tensor(Y, dtype=tf.float32)\n",
        "\n",
        "        with tf.GradientTape(persistent=True) as tape:\n",
        "            A = self.forward_pass(X)\n",
        "            loss = self.compute_loss(A,Y)\n",
        "\n",
        "        for i in range(1, self.L):\n",
        "            self.dW[i] = tape.gradient(loss, self.W[i])\n",
        "            self.db[i] = tape.gradient(loss, self.b[i])\n",
        "        del tape\n",
        "        self.update_params(lr)\n",
        "        return loss.numpy()"
      ]
    },
    {
      "cell_type": "markdown",
      "metadata": {
        "id": "O_xrw_DRS8PC"
      },
      "source": []
    },
    {
      "cell_type": "code",
      "execution_count": null,
      "metadata": {
        "id": "2GMPiFbfS8PD"
      },
      "outputs": [],
      "source": [
        "# Training on Complete Set\n",
        "class NeuralNetwork(NeuralNetwork):\n",
        "    def train(self, x_train, y_train, x_test, y_test, epochs, steps_per_epoch, batch_size, lr):\n",
        "        history = {\n",
        "            'val_loss': [],\n",
        "            'train_loss': [],\n",
        "            'val_acc': []\n",
        "        }\n",
        "\n",
        "        for e in range(0, epochs):\n",
        "            epoch_train_loss = 0.\n",
        "            print('Epoch {}'.format(e), end='.')\n",
        "            for i in range(0, steps_per_epoch):\n",
        "                x_batch = x_train[i*batch_size: (i+1)*batch_size]\n",
        "                y_batch = y_train[i*batch_size: (i+1)*batch_size]\n",
        "\n",
        "                batch_loss = self.train_on_batch(x_batch, y_batch, lr)\n",
        "                epoch_train_loss += batch_loss\n",
        "\n",
        "                if i%int(steps_per_epoch/10) == 0:\n",
        "                        print(end='.')\n",
        "\n",
        "            history['train_loss'].append(epoch_train_loss/steps_per_epoch)\n",
        "            val_A = self.forward_pass(x_test)\n",
        "            val_loss = self.compute_loss(val_A, y_test).numpy()\n",
        "            history['val_loss'].append(val_loss)\n",
        "            val_preds = self.predict(x_test)\n",
        "            val_acc = np.mean(np.argmax(y_test, axis=1) == val_preds.numpy())\n",
        "            history['val_acc'].append(val_acc)\n",
        "            print('Val acc:', val_acc)\n",
        "        return history\n",
        "\n",
        "\n",
        "\n",
        "\n",
        ""
      ]
    },
    {
      "cell_type": "markdown",
      "metadata": {
        "id": "kRjxrJV9S8PD"
      },
      "source": [
        "# Training Neural Network for classification"
      ]
    },
    {
      "cell_type": "code",
      "execution_count": null,
      "metadata": {
        "id": "EjbubbkMS8PE",
        "outputId": "97acf6d8-eb2f-49cf-a742-b2b6caf144b1"
      },
      "outputs": [
        {
          "data": {
            "image/png": "[encoded data removed]",
            "text/plain": [
              "<Figure size 720x360 with 10 Axes>"
            ]
          },
          "metadata": {},
          "output_type": "display_data"
        }
      ],
      "source": [
        "(x_train, y_train), (x_test, y_test) = nn_utils.load_data()\n",
        "nn_utils.plot_random_examples(x_train, y_train).show()"
      ]
    },
    {
      "cell_type": "code",
      "execution_count": null,
      "metadata": {
        "id": "I7oXCVP5S8PF",
        "outputId": "3330ef70-ceaa-4ee8-e8e7-d644438e66c1"
      },
      "outputs": [
        {
          "name": "stdout",
          "output_type": "stream",
          "text": [
            "Input Features: 784\n",
            "Number of Classes: 10\n",
            "Hidden Layers:\n",
            "--------------\n",
            "Layer 1, Units 128\n",
            "Layer 2, Units 128\n",
            "--------------\n",
            "Number of parameters: 118282\n"
          ]
        }
      ],
      "source": [
        "net = NeuralNetwork([784, 128, 128, 10])\n",
        "net.info()"
      ]
    },
    {
      "cell_type": "code",
      "execution_count": null,
      "metadata": {
        "id": "Dn-XcpzMS8PG",
        "outputId": "14ff3b93-a935-4e67-b155-71a6e922c1a2"
      },
      "outputs": [
        {
          "name": "stdout",
          "output_type": "stream",
          "text": [
            "Steps per epoch 500\n"
          ]
        }
      ],
      "source": [
        "batch_size = 120\n",
        "epochs = 5\n",
        "steps_per_epoch = int(x_train.shape[0]/batch_size)\n",
        "lr = 3e-3\n",
        "print('Steps per epoch', steps_per_epoch)"
      ]
    },
    {
      "cell_type": "code",
      "execution_count": null,
      "metadata": {
        "id": "hNQdh9aJS8PH",
        "outputId": "2b16027c-73d0-4cf3-a0fc-f0960766448d"
      },
      "outputs": [
        {
          "name": "stdout",
          "output_type": "stream",
          "text": [
            "Epoch 0...........Val acc: 0.8056\n",
            "Epoch 1...........Val acc: 0.8378\n",
            "Epoch 2...........Val acc: 0.8512\n",
            "Epoch 3...........Val acc: 0.8593\n",
            "Epoch 4...........Val acc: 0.865\n"
          ]
        }
      ],
      "source": [
        "history = net.train(\n",
        " x_train, y_train,\n",
        " x_test, y_test,\n",
        " epochs, steps_per_epoch,\n",
        " batch_size, lr\n",
        ")"
      ]
    },
    {
      "cell_type": "markdown",
      "metadata": {
        "id": "N1Z-N4w2S8PH"
      },
      "source": [
        "# Results"
      ]
    },
    {
      "cell_type": "code",
      "execution_count": null,
      "metadata": {
        "id": "Wey6_sRcS8PI",
        "outputId": "2c8672f9-afab-4a09-cf46-db7cdab17a84"
      },
      "outputs": [
        {
          "data": {
            "image/png": "[encoded data removed]",
            "text/plain": [
              "<Figure size 864x288 with 2 Axes>"
            ]
          },
          "metadata": {
            "needs_background": "light"
          },
          "output_type": "display_data"
        }
      ],
      "source": [
        "nn_utils.plot_results(history).show()"
      ]
    },
    {
      "cell_type": "code",
      "execution_count": null,
      "metadata": {
        "id": "oIP2R3UOS8PI"
      },
      "outputs": [],
      "source": [
        "preds = net.predict(x_test)"
      ]
    },
    {
      "cell_type": "code",
      "execution_count": null,
      "metadata": {
        "id": "q1bRTKuNS8PJ",
        "outputId": "9cf0942b-af75-4152-845a-5b8d727a0352"
      },
      "outputs": [
        {
          "data": {
            "image/png": "[encoded data removed]",
            "text/plain": [
              "<Figure size 720x360 with 10 Axes>"
            ]
          },
          "metadata": {},
          "output_type": "display_data"
        }
      ],
      "source": [
        "nn_utils.plot_random_examples(x_test, y_test,preds.numpy()).show()"
      ]
    },
    {
      "cell_type": "code",
      "execution_count": null,
      "metadata": {
        "id": "bxOqvbncS8PK"
      },
      "outputs": [],
      "source": []
    }
  ],
  "metadata": {
    "kernelspec": {
      "display_name": "Python 3",
      "language": "python",
      "name": "python3"
    },
    "language_info": {
      "codemirror_mode": {
        "name": "ipython",
        "version": 3
      },
      "file_extension": ".py",
      "mimetype": "text/x-python",
      "name": "python",
      "nbconvert_exporter": "python",
      "pygments_lexer": "ipython3",
      "version": "3.7.0"
    },
    "colab": {
      "provenance": []
    }
  },
  "nbformat": 4,
  "nbformat_minor": 0
}